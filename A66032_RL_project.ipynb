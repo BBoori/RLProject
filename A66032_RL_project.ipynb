{
  "nbformat": 4,
  "nbformat_minor": 0,
  "metadata": {
    "colab": {
      "provenance": []
    },
    "kernelspec": {
      "name": "python3",
      "display_name": "Python 3"
    },
    "language_info": {
      "name": "python"
    }
  },
  "cells": [
    {
      "cell_type": "markdown",
      "source": [
        "## 강화학습 과제\n",
        "- A66032 김우리\n",
        "- 제출일 : 12월 12일\n",
        "- 마감일 : 12월 12일\n",
        "\n"
      ],
      "metadata": {
        "id": "8U8bD-nefGdR"
      }
    },
    {
      "cell_type": "code",
      "source": [],
      "metadata": {
        "id": "M0XYo2LKfNiM"
      },
      "execution_count": null,
      "outputs": []
    },
    {
      "cell_type": "code",
      "source": [
        "# 환경 임포트 한다. \n",
        "# 프로젝트 주제로 Atari Envtrionmentdml BreakOut을 선택하였다. \n",
        "\n",
        "\n",
        "## 프로그램의 동작을 설정한다. \n",
        "import gym\n",
        "import collections\n",
        "import random\n",
        "\n",
        "# pytorch library is used for deep learning\n",
        "import torch\n",
        "import torch.nn as nn\n",
        "import torch.optim as optim\n",
        "import torch.nn.functional as F\n",
        "\n",
        "import matplotlib.pyplot as plt\n",
        "\n",
        "# hyperparameters\n",
        "learning_rate = 0.00049\n",
        "gamma = 0.99  \n",
        "buffer_limit = 10000        # 버퍼 리밋의 의미 : 10000개 차면 옛날(old) 것부터 버려진다. \n",
        "batch_size = 30\n"
      ],
      "metadata": {
        "id": "eMpBAFH1fONi"
      },
      "execution_count": 56,
      "outputs": []
    },
    {
      "cell_type": "code",
      "source": [],
      "metadata": {
        "id": "HlCfOWYclVmP"
      },
      "execution_count": null,
      "outputs": []
    },
    {
      "cell_type": "code",
      "source": [
        "class ReplayBuffer():\n",
        "    def __init__(self): # 여기서 변수 등 초기화 한다. (transition을 담고 있는 테이블 등)\n",
        "        self.buffer = collections.deque(maxlen=buffer_limit)    # 일반 디큐엔\n",
        "    \n",
        "    def put(self, transition):\n",
        "        self.buffer.append(transition)\n",
        "\n",
        "    def sample(self, n):\n",
        "        mini_batch = random.sample(self.buffer, n) # self.buffer 버퍼에서 n 개 뽑아서 준다. \n",
        "        s_lst, a_lst, r_lst, s_prime_lst, done_mask_lst = [], [], [], [], []\n",
        "        # done_mask_lst : next staterk terminate 인지 아닌지 찍음 \n",
        "\n",
        "        for transition in mini_batch:\n",
        "            s, a, r, s_prime, done_mask = transition\n",
        "            s_lst.append(s)\n",
        "            a_lst.append([a])\n",
        "            r_lst.append([r])\n",
        "            s_prime_lst.append(s_prime)\n",
        "            done_mask_lst.append([done_mask])\n",
        "\n",
        "        return torch.tensor(s_lst, dtype=torch.float), torch.tensor(a_lst), \\\n",
        "               torch.tensor(r_lst), torch.tensor(s_prime_lst, dtype=torch.float), \\\n",
        "               torch.tensor(done_mask_lst)\n",
        "\n",
        "        # 텐서로 바꿔서 리턴해준다. \n",
        "\n",
        "    def size(self):\n",
        "        return len(self.buffer)"
      ],
      "metadata": {
        "id": "gHj0wn1SgH9L"
      },
      "execution_count": 57,
      "outputs": []
    },
    {
      "cell_type": "code",
      "source": [
        "class Qnet(nn.Module):\n",
        "    def __init__(self):\n",
        "        super(Qnet, self).__init__()\n",
        "        # self.fc1 = nn.Linear(4, 128)\n",
        "        # self.fc2 = nn.Linear(128, 128)\n",
        "        # self.fc3 = nn.Linear(128, 2)\n",
        "        self.fc1 = nn.Linear(6, 192)\n",
        "        self.fc2 = nn.Linear(192, 192)\n",
        "        self.fc3 = nn.Linear(192, 3)\n",
        "\n",
        "    def forward(self, x):\n",
        "        x = F.relu(self.fc1(x))\n",
        "        x = F.relu(self.fc2(x))\n",
        "        x = self.fc3(x)\n",
        "        return x\n",
        "      \n",
        "    def sample_action(self, obs, epsilon):\n",
        "        out = self.forward(obs)\n",
        "        coin = random.random()\n",
        "        if coin < epsilon:\n",
        "            return random.randint(0,1)\n",
        "        else : \n",
        "            return out.argmax().item()  "
      ],
      "metadata": {
        "id": "muHz0ErOgKdt"
      },
      "execution_count": 58,
      "outputs": []
    },
    {
      "cell_type": "code",
      "source": [
        "def train(q, q_target, memory, optimizer):\n",
        "    for i in range(10):\n",
        "        s,a,r,s_prime,done_mask = memory.sample(batch_size)\n",
        "\n",
        "        q_out = q(s)\n",
        "        q_a = q_out.gather(1,a)\n",
        "\n",
        "        # DQN <<<< DQN 일때 이거 수행\n",
        "        #max_q_prime = q_target(s_prime).max(1)[0].unsqueeze(1)\n",
        "\n",
        "        # Double DQN <<<<<Double DQN 일 때 이거 수행\n",
        "        # q_target q가 아니라 q_target에서 다음 state에서 액션의 최대값 추출\n",
        "        argmax_Q = q(s_prime).max(1)[1].unsqueeze(1)\n",
        "        max_q_prime = q_target(s_prime).gather(1, argmax_Q)\n",
        "        \n",
        "        # MSE Loss\n",
        "        loss = F.mse_loss(q_a, target)\n",
        "        # 손실함수는 mean Square Error 이걸로 뉴럴 네트워트를 학습시킬것이다. \n",
        "\n",
        "        # Smooth L1 Loss\n",
        "        #loss = F.smooth_l1_loss(q_a, target)\n",
        "\n",
        "        optimizer.zero_grad()\n",
        "        loss.backward() # 오류역전파 backpropagation\n",
        "        optimizer.step()"
      ],
      "metadata": {
        "id": "y2Er3DwhmYZ7"
      },
      "execution_count": 60,
      "outputs": []
    },
    {
      "cell_type": "code",
      "source": [
        "def main():\n",
        "    # env = gym.make('Breakout-v4')\n",
        "    env = gym.make(\"Acrobot-v1\") # Acrobot 수행\n",
        "    q = Qnet()\n",
        "    q_target = Qnet()\n",
        "    q_target.load_state_dict(q.state_dict())\n",
        "    memory = ReplayBuffer()\n",
        "\n",
        "    print_interval = 20\n",
        "    score = 0.0\n",
        "    optimizer = optim.Adam(q.parameters(), lr=learning_rate)\n",
        "\n",
        "    for n_epi in range(6000):\n",
        "        epsilon = max(0.01, 0.08 - 0.01*(n_epi/200)) #입실론을 점점 줄인다\n",
        "        s = env.reset()\n",
        "        done = False\n",
        "        \n",
        "        while not done:\n",
        "            a = q.sample_action(torch.from_numpy(s).float(), epsilon)\n",
        "            s_prime, r, done, info = env.step(a)\n",
        "            done_mask = 0.0 if done else 1.0\n",
        "            memory.put((s,a,r/100.0,s_prime, done_mask))\n",
        "            s = s_prime\n",
        "\n",
        "            score += r\n",
        "            if done:\n",
        "                break\n",
        "\n",
        "        if memory.size()>2000:\n",
        "            train(q, q_target, memory, optimizer)\n",
        "\n",
        "        if n_epi%print_interval==0 and n_epi!=0:\n",
        "            q_target.load_state_dict(q.state_dict())\n",
        "            print(\"n_episode :{}, score : {:.1f}, n_buffer : {}, eps : {:.1f}%\".format(\n",
        "                                                            n_epi, score/print_interval, memory.size(), epsilon*100))\n",
        "            score = 0.0\n",
        "            \n",
        "            # type(n_epi)\n",
        "\n",
        "    env.close()\n",
        "\n",
        "\n",
        "if __name__ == '__main__':\n",
        "    main()\n",
        "    # print(type(n_epi))\n",
        "\n",
        "    # sys.stdout = pd.to_csv('RL.csv')"
      ],
      "metadata": {
        "colab": {
          "base_uri": "https://localhost:8080/"
        },
        "id": "XKNa-2tYnUTR",
        "outputId": "1cea8e04-d00b-48f9-ae2b-4d99d39e9d27"
      },
      "execution_count": 61,
      "outputs": [
        {
          "output_type": "stream",
          "name": "stderr",
          "text": [
            "/usr/local/lib/python3.8/dist-packages/gym/core.py:317: DeprecationWarning: \u001b[33mWARN: Initializing wrapper in old step API which returns one bool instead of two. It is recommended to set `new_step_api=True` to use new step API. This will be the default behaviour in future.\u001b[0m\n",
            "  deprecation(\n",
            "/usr/local/lib/python3.8/dist-packages/gym/wrappers/step_api_compatibility.py:39: DeprecationWarning: \u001b[33mWARN: Initializing environment in old step API which returns one bool instead of two. It is recommended to set `new_step_api=True` to use new step API. This will be the default behaviour in future.\u001b[0m\n",
            "  deprecation(\n"
          ]
        },
        {
          "output_type": "stream",
          "name": "stdout",
          "text": [
            "n_episode :20, score : -441.1, n_buffer : 8830, eps : 7.9%\n",
            "n_episode :40, score : -280.7, n_buffer : 10000, eps : 7.8%\n",
            "n_episode :60, score : -319.9, n_buffer : 10000, eps : 7.7%\n",
            "n_episode :80, score : -335.2, n_buffer : 10000, eps : 7.6%\n",
            "n_episode :100, score : -386.9, n_buffer : 10000, eps : 7.5%\n",
            "n_episode :120, score : -271.8, n_buffer : 10000, eps : 7.4%\n",
            "n_episode :140, score : -288.9, n_buffer : 10000, eps : 7.3%\n",
            "n_episode :160, score : -199.8, n_buffer : 10000, eps : 7.2%\n",
            "n_episode :180, score : -288.4, n_buffer : 10000, eps : 7.1%\n",
            "n_episode :200, score : -269.4, n_buffer : 10000, eps : 7.0%\n",
            "n_episode :220, score : -333.6, n_buffer : 10000, eps : 6.9%\n",
            "n_episode :240, score : -278.5, n_buffer : 10000, eps : 6.8%\n",
            "n_episode :260, score : -225.0, n_buffer : 10000, eps : 6.7%\n",
            "n_episode :280, score : -279.8, n_buffer : 10000, eps : 6.6%\n",
            "n_episode :300, score : -231.2, n_buffer : 10000, eps : 6.5%\n",
            "n_episode :320, score : -274.6, n_buffer : 10000, eps : 6.4%\n",
            "n_episode :340, score : -262.1, n_buffer : 10000, eps : 6.3%\n",
            "n_episode :360, score : -263.6, n_buffer : 10000, eps : 6.2%\n",
            "n_episode :380, score : -268.4, n_buffer : 10000, eps : 6.1%\n",
            "n_episode :400, score : -383.7, n_buffer : 10000, eps : 6.0%\n",
            "n_episode :420, score : -366.2, n_buffer : 10000, eps : 5.9%\n",
            "n_episode :440, score : -290.4, n_buffer : 10000, eps : 5.8%\n",
            "n_episode :460, score : -452.4, n_buffer : 10000, eps : 5.7%\n",
            "n_episode :480, score : -500.0, n_buffer : 10000, eps : 5.6%\n",
            "n_episode :500, score : -210.4, n_buffer : 10000, eps : 5.5%\n",
            "n_episode :520, score : -262.2, n_buffer : 10000, eps : 5.4%\n",
            "n_episode :540, score : -221.9, n_buffer : 10000, eps : 5.3%\n",
            "n_episode :560, score : -274.4, n_buffer : 10000, eps : 5.2%\n",
            "n_episode :580, score : -261.4, n_buffer : 10000, eps : 5.1%\n",
            "n_episode :600, score : -264.1, n_buffer : 10000, eps : 5.0%\n",
            "n_episode :620, score : -422.5, n_buffer : 10000, eps : 4.9%\n",
            "n_episode :640, score : -497.1, n_buffer : 10000, eps : 4.8%\n",
            "n_episode :660, score : -478.1, n_buffer : 10000, eps : 4.7%\n",
            "n_episode :680, score : -492.4, n_buffer : 10000, eps : 4.6%\n",
            "n_episode :700, score : -487.9, n_buffer : 10000, eps : 4.5%\n",
            "n_episode :720, score : -500.0, n_buffer : 10000, eps : 4.4%\n",
            "n_episode :740, score : -413.4, n_buffer : 10000, eps : 4.3%\n",
            "n_episode :760, score : -483.7, n_buffer : 10000, eps : 4.2%\n",
            "n_episode :780, score : -496.2, n_buffer : 10000, eps : 4.1%\n",
            "n_episode :800, score : -379.9, n_buffer : 10000, eps : 4.0%\n",
            "n_episode :820, score : -232.6, n_buffer : 10000, eps : 3.9%\n",
            "n_episode :840, score : -318.4, n_buffer : 10000, eps : 3.8%\n",
            "n_episode :860, score : -369.9, n_buffer : 10000, eps : 3.7%\n",
            "n_episode :880, score : -430.8, n_buffer : 10000, eps : 3.6%\n",
            "n_episode :900, score : -307.9, n_buffer : 10000, eps : 3.5%\n",
            "n_episode :920, score : -202.3, n_buffer : 10000, eps : 3.4%\n",
            "n_episode :940, score : -253.6, n_buffer : 10000, eps : 3.3%\n",
            "n_episode :960, score : -336.3, n_buffer : 10000, eps : 3.2%\n",
            "n_episode :980, score : -412.4, n_buffer : 10000, eps : 3.1%\n",
            "n_episode :1000, score : -385.4, n_buffer : 10000, eps : 3.0%\n",
            "n_episode :1020, score : -460.7, n_buffer : 10000, eps : 2.9%\n",
            "n_episode :1040, score : -500.0, n_buffer : 10000, eps : 2.8%\n",
            "n_episode :1060, score : -500.0, n_buffer : 10000, eps : 2.7%\n",
            "n_episode :1080, score : -500.0, n_buffer : 10000, eps : 2.6%\n",
            "n_episode :1100, score : -490.1, n_buffer : 10000, eps : 2.5%\n",
            "n_episode :1120, score : -446.0, n_buffer : 10000, eps : 2.4%\n",
            "n_episode :1140, score : -402.6, n_buffer : 10000, eps : 2.3%\n",
            "n_episode :1160, score : -378.9, n_buffer : 10000, eps : 2.2%\n",
            "n_episode :1180, score : -275.2, n_buffer : 10000, eps : 2.1%\n",
            "n_episode :1200, score : -254.6, n_buffer : 10000, eps : 2.0%\n",
            "n_episode :1220, score : -192.9, n_buffer : 10000, eps : 1.9%\n",
            "n_episode :1240, score : -433.7, n_buffer : 10000, eps : 1.8%\n",
            "n_episode :1260, score : -443.6, n_buffer : 10000, eps : 1.7%\n",
            "n_episode :1280, score : -469.0, n_buffer : 10000, eps : 1.6%\n",
            "n_episode :1300, score : -486.1, n_buffer : 10000, eps : 1.5%\n",
            "n_episode :1320, score : -440.1, n_buffer : 10000, eps : 1.4%\n",
            "n_episode :1340, score : -500.0, n_buffer : 10000, eps : 1.3%\n",
            "n_episode :1360, score : -500.0, n_buffer : 10000, eps : 1.2%\n",
            "n_episode :1380, score : -500.0, n_buffer : 10000, eps : 1.1%\n",
            "n_episode :1400, score : -490.1, n_buffer : 10000, eps : 1.0%\n",
            "n_episode :1420, score : -500.0, n_buffer : 10000, eps : 1.0%\n",
            "n_episode :1440, score : -500.0, n_buffer : 10000, eps : 1.0%\n",
            "n_episode :1460, score : -486.0, n_buffer : 10000, eps : 1.0%\n",
            "n_episode :1480, score : -499.4, n_buffer : 10000, eps : 1.0%\n",
            "n_episode :1500, score : -500.0, n_buffer : 10000, eps : 1.0%\n",
            "n_episode :1520, score : -500.0, n_buffer : 10000, eps : 1.0%\n",
            "n_episode :1540, score : -500.0, n_buffer : 10000, eps : 1.0%\n",
            "n_episode :1560, score : -500.0, n_buffer : 10000, eps : 1.0%\n",
            "n_episode :1580, score : -486.0, n_buffer : 10000, eps : 1.0%\n",
            "n_episode :1600, score : -356.2, n_buffer : 10000, eps : 1.0%\n",
            "n_episode :1620, score : -479.8, n_buffer : 10000, eps : 1.0%\n",
            "n_episode :1640, score : -462.7, n_buffer : 10000, eps : 1.0%\n",
            "n_episode :1660, score : -438.9, n_buffer : 10000, eps : 1.0%\n",
            "n_episode :1680, score : -414.5, n_buffer : 10000, eps : 1.0%\n",
            "n_episode :1700, score : -418.4, n_buffer : 10000, eps : 1.0%\n",
            "n_episode :1720, score : -385.8, n_buffer : 10000, eps : 1.0%\n",
            "n_episode :1740, score : -357.7, n_buffer : 10000, eps : 1.0%\n",
            "n_episode :1760, score : -404.4, n_buffer : 10000, eps : 1.0%\n",
            "n_episode :1780, score : -348.8, n_buffer : 10000, eps : 1.0%\n",
            "n_episode :1800, score : -282.5, n_buffer : 10000, eps : 1.0%\n",
            "n_episode :1820, score : -293.6, n_buffer : 10000, eps : 1.0%\n",
            "n_episode :1840, score : -392.4, n_buffer : 10000, eps : 1.0%\n",
            "n_episode :1860, score : -415.6, n_buffer : 10000, eps : 1.0%\n",
            "n_episode :1880, score : -475.2, n_buffer : 10000, eps : 1.0%\n",
            "n_episode :1900, score : -345.2, n_buffer : 10000, eps : 1.0%\n",
            "n_episode :1920, score : -386.7, n_buffer : 10000, eps : 1.0%\n",
            "n_episode :1940, score : -381.4, n_buffer : 10000, eps : 1.0%\n",
            "n_episode :1960, score : -397.9, n_buffer : 10000, eps : 1.0%\n",
            "n_episode :1980, score : -325.3, n_buffer : 10000, eps : 1.0%\n",
            "n_episode :2000, score : -484.3, n_buffer : 10000, eps : 1.0%\n",
            "n_episode :2020, score : -271.3, n_buffer : 10000, eps : 1.0%\n",
            "n_episode :2040, score : -291.6, n_buffer : 10000, eps : 1.0%\n",
            "n_episode :2060, score : -331.4, n_buffer : 10000, eps : 1.0%\n",
            "n_episode :2080, score : -312.8, n_buffer : 10000, eps : 1.0%\n",
            "n_episode :2100, score : -332.2, n_buffer : 10000, eps : 1.0%\n",
            "n_episode :2120, score : -287.4, n_buffer : 10000, eps : 1.0%\n",
            "n_episode :2140, score : -232.8, n_buffer : 10000, eps : 1.0%\n",
            "n_episode :2160, score : -127.5, n_buffer : 10000, eps : 1.0%\n",
            "n_episode :2180, score : -338.5, n_buffer : 10000, eps : 1.0%\n",
            "n_episode :2200, score : -447.8, n_buffer : 10000, eps : 1.0%\n",
            "n_episode :2220, score : -388.9, n_buffer : 10000, eps : 1.0%\n",
            "n_episode :2240, score : -461.6, n_buffer : 10000, eps : 1.0%\n",
            "n_episode :2260, score : -276.2, n_buffer : 10000, eps : 1.0%\n",
            "n_episode :2280, score : -221.4, n_buffer : 10000, eps : 1.0%\n",
            "n_episode :2300, score : -296.4, n_buffer : 10000, eps : 1.0%\n",
            "n_episode :2320, score : -379.2, n_buffer : 10000, eps : 1.0%\n",
            "n_episode :2340, score : -397.6, n_buffer : 10000, eps : 1.0%\n",
            "n_episode :2360, score : -441.9, n_buffer : 10000, eps : 1.0%\n",
            "n_episode :2380, score : -412.5, n_buffer : 10000, eps : 1.0%\n",
            "n_episode :2400, score : -303.8, n_buffer : 10000, eps : 1.0%\n",
            "n_episode :2420, score : -209.9, n_buffer : 10000, eps : 1.0%\n",
            "n_episode :2440, score : -357.4, n_buffer : 10000, eps : 1.0%\n",
            "n_episode :2460, score : -430.6, n_buffer : 10000, eps : 1.0%\n",
            "n_episode :2480, score : -257.2, n_buffer : 10000, eps : 1.0%\n",
            "n_episode :2500, score : -255.6, n_buffer : 10000, eps : 1.0%\n",
            "n_episode :2520, score : -201.9, n_buffer : 10000, eps : 1.0%\n",
            "n_episode :2540, score : -211.6, n_buffer : 10000, eps : 1.0%\n",
            "n_episode :2560, score : -333.4, n_buffer : 10000, eps : 1.0%\n",
            "n_episode :2580, score : -291.1, n_buffer : 10000, eps : 1.0%\n",
            "n_episode :2600, score : -306.6, n_buffer : 10000, eps : 1.0%\n",
            "n_episode :2620, score : -306.1, n_buffer : 10000, eps : 1.0%\n",
            "n_episode :2640, score : -406.3, n_buffer : 10000, eps : 1.0%\n",
            "n_episode :2660, score : -387.6, n_buffer : 10000, eps : 1.0%\n",
            "n_episode :2680, score : -245.3, n_buffer : 10000, eps : 1.0%\n",
            "n_episode :2700, score : -350.4, n_buffer : 10000, eps : 1.0%\n",
            "n_episode :2720, score : -393.9, n_buffer : 10000, eps : 1.0%\n",
            "n_episode :2740, score : -366.6, n_buffer : 10000, eps : 1.0%\n",
            "n_episode :2760, score : -402.1, n_buffer : 10000, eps : 1.0%\n",
            "n_episode :2780, score : -405.9, n_buffer : 10000, eps : 1.0%\n",
            "n_episode :2800, score : -301.3, n_buffer : 10000, eps : 1.0%\n",
            "n_episode :2820, score : -388.4, n_buffer : 10000, eps : 1.0%\n",
            "n_episode :2840, score : -459.4, n_buffer : 10000, eps : 1.0%\n",
            "n_episode :2860, score : -435.6, n_buffer : 10000, eps : 1.0%\n",
            "n_episode :2880, score : -405.6, n_buffer : 10000, eps : 1.0%\n",
            "n_episode :2900, score : -360.9, n_buffer : 10000, eps : 1.0%\n",
            "n_episode :2920, score : -132.6, n_buffer : 10000, eps : 1.0%\n",
            "n_episode :2940, score : -322.4, n_buffer : 10000, eps : 1.0%\n",
            "n_episode :2960, score : -408.6, n_buffer : 10000, eps : 1.0%\n",
            "n_episode :2980, score : -324.6, n_buffer : 10000, eps : 1.0%\n",
            "n_episode :3000, score : -342.2, n_buffer : 10000, eps : 1.0%\n",
            "n_episode :3020, score : -254.7, n_buffer : 10000, eps : 1.0%\n",
            "n_episode :3040, score : -285.6, n_buffer : 10000, eps : 1.0%\n",
            "n_episode :3060, score : -264.8, n_buffer : 10000, eps : 1.0%\n",
            "n_episode :3080, score : -187.6, n_buffer : 10000, eps : 1.0%\n",
            "n_episode :3100, score : -312.2, n_buffer : 10000, eps : 1.0%\n",
            "n_episode :3120, score : -322.1, n_buffer : 10000, eps : 1.0%\n",
            "n_episode :3140, score : -398.5, n_buffer : 10000, eps : 1.0%\n",
            "n_episode :3160, score : -303.5, n_buffer : 10000, eps : 1.0%\n",
            "n_episode :3180, score : -331.6, n_buffer : 10000, eps : 1.0%\n",
            "n_episode :3200, score : -365.9, n_buffer : 10000, eps : 1.0%\n",
            "n_episode :3220, score : -403.1, n_buffer : 10000, eps : 1.0%\n",
            "n_episode :3240, score : -375.4, n_buffer : 10000, eps : 1.0%\n",
            "n_episode :3260, score : -167.9, n_buffer : 10000, eps : 1.0%\n",
            "n_episode :3280, score : -134.4, n_buffer : 10000, eps : 1.0%\n",
            "n_episode :3300, score : -127.2, n_buffer : 10000, eps : 1.0%\n",
            "n_episode :3320, score : -309.4, n_buffer : 10000, eps : 1.0%\n",
            "n_episode :3340, score : -377.6, n_buffer : 10000, eps : 1.0%\n",
            "n_episode :3360, score : -260.8, n_buffer : 10000, eps : 1.0%\n",
            "n_episode :3380, score : -280.1, n_buffer : 10000, eps : 1.0%\n",
            "n_episode :3400, score : -294.4, n_buffer : 10000, eps : 1.0%\n",
            "n_episode :3420, score : -269.4, n_buffer : 10000, eps : 1.0%\n",
            "n_episode :3440, score : -208.9, n_buffer : 10000, eps : 1.0%\n",
            "n_episode :3460, score : -322.0, n_buffer : 10000, eps : 1.0%\n",
            "n_episode :3480, score : -369.4, n_buffer : 10000, eps : 1.0%\n",
            "n_episode :3500, score : -207.9, n_buffer : 10000, eps : 1.0%\n",
            "n_episode :3520, score : -289.4, n_buffer : 10000, eps : 1.0%\n",
            "n_episode :3540, score : -403.2, n_buffer : 10000, eps : 1.0%\n",
            "n_episode :3560, score : -317.5, n_buffer : 10000, eps : 1.0%\n",
            "n_episode :3580, score : -299.9, n_buffer : 10000, eps : 1.0%\n",
            "n_episode :3600, score : -450.4, n_buffer : 10000, eps : 1.0%\n",
            "n_episode :3620, score : -284.6, n_buffer : 10000, eps : 1.0%\n",
            "n_episode :3640, score : -463.5, n_buffer : 10000, eps : 1.0%\n",
            "n_episode :3660, score : -323.2, n_buffer : 10000, eps : 1.0%\n",
            "n_episode :3680, score : -190.8, n_buffer : 10000, eps : 1.0%\n",
            "n_episode :3700, score : -183.6, n_buffer : 10000, eps : 1.0%\n",
            "n_episode :3720, score : -197.6, n_buffer : 10000, eps : 1.0%\n",
            "n_episode :3740, score : -187.4, n_buffer : 10000, eps : 1.0%\n",
            "n_episode :3760, score : -292.6, n_buffer : 10000, eps : 1.0%\n",
            "n_episode :3780, score : -323.1, n_buffer : 10000, eps : 1.0%\n",
            "n_episode :3800, score : -377.8, n_buffer : 10000, eps : 1.0%\n",
            "n_episode :3820, score : -327.6, n_buffer : 10000, eps : 1.0%\n",
            "n_episode :3840, score : -411.6, n_buffer : 10000, eps : 1.0%\n",
            "n_episode :3860, score : -367.4, n_buffer : 10000, eps : 1.0%\n",
            "n_episode :3880, score : -287.6, n_buffer : 10000, eps : 1.0%\n",
            "n_episode :3900, score : -243.2, n_buffer : 10000, eps : 1.0%\n",
            "n_episode :3920, score : -262.2, n_buffer : 10000, eps : 1.0%\n",
            "n_episode :3940, score : -423.5, n_buffer : 10000, eps : 1.0%\n",
            "n_episode :3960, score : -230.7, n_buffer : 10000, eps : 1.0%\n",
            "n_episode :3980, score : -171.1, n_buffer : 10000, eps : 1.0%\n",
            "n_episode :4000, score : -182.7, n_buffer : 10000, eps : 1.0%\n",
            "n_episode :4020, score : -338.9, n_buffer : 10000, eps : 1.0%\n",
            "n_episode :4040, score : -404.4, n_buffer : 10000, eps : 1.0%\n",
            "n_episode :4060, score : -249.5, n_buffer : 10000, eps : 1.0%\n",
            "n_episode :4080, score : -299.2, n_buffer : 10000, eps : 1.0%\n",
            "n_episode :4100, score : -252.3, n_buffer : 10000, eps : 1.0%\n",
            "n_episode :4120, score : -296.0, n_buffer : 10000, eps : 1.0%\n",
            "n_episode :4140, score : -161.3, n_buffer : 10000, eps : 1.0%\n",
            "n_episode :4160, score : -206.1, n_buffer : 10000, eps : 1.0%\n",
            "n_episode :4180, score : -227.3, n_buffer : 10000, eps : 1.0%\n",
            "n_episode :4200, score : -288.1, n_buffer : 10000, eps : 1.0%\n",
            "n_episode :4220, score : -326.4, n_buffer : 10000, eps : 1.0%\n",
            "n_episode :4240, score : -373.6, n_buffer : 10000, eps : 1.0%\n",
            "n_episode :4260, score : -462.6, n_buffer : 10000, eps : 1.0%\n",
            "n_episode :4280, score : -329.2, n_buffer : 10000, eps : 1.0%\n",
            "n_episode :4300, score : -366.9, n_buffer : 10000, eps : 1.0%\n",
            "n_episode :4320, score : -289.4, n_buffer : 10000, eps : 1.0%\n",
            "n_episode :4340, score : -223.1, n_buffer : 10000, eps : 1.0%\n",
            "n_episode :4360, score : -196.6, n_buffer : 10000, eps : 1.0%\n",
            "n_episode :4380, score : -205.3, n_buffer : 10000, eps : 1.0%\n",
            "n_episode :4400, score : -287.8, n_buffer : 10000, eps : 1.0%\n",
            "n_episode :4420, score : -316.8, n_buffer : 10000, eps : 1.0%\n",
            "n_episode :4440, score : -249.7, n_buffer : 10000, eps : 1.0%\n",
            "n_episode :4460, score : -332.4, n_buffer : 10000, eps : 1.0%\n",
            "n_episode :4480, score : -312.2, n_buffer : 10000, eps : 1.0%\n",
            "n_episode :4500, score : -411.2, n_buffer : 10000, eps : 1.0%\n",
            "n_episode :4520, score : -399.5, n_buffer : 10000, eps : 1.0%\n",
            "n_episode :4540, score : -459.7, n_buffer : 10000, eps : 1.0%\n",
            "n_episode :4560, score : -461.8, n_buffer : 10000, eps : 1.0%\n",
            "n_episode :4580, score : -446.1, n_buffer : 10000, eps : 1.0%\n",
            "n_episode :4600, score : -278.4, n_buffer : 10000, eps : 1.0%\n",
            "n_episode :4620, score : -158.1, n_buffer : 10000, eps : 1.0%\n",
            "n_episode :4640, score : -302.9, n_buffer : 10000, eps : 1.0%\n",
            "n_episode :4660, score : -311.4, n_buffer : 10000, eps : 1.0%\n",
            "n_episode :4680, score : -297.5, n_buffer : 10000, eps : 1.0%\n",
            "n_episode :4700, score : -246.4, n_buffer : 10000, eps : 1.0%\n",
            "n_episode :4720, score : -286.6, n_buffer : 10000, eps : 1.0%\n",
            "n_episode :4740, score : -232.1, n_buffer : 10000, eps : 1.0%\n",
            "n_episode :4760, score : -231.9, n_buffer : 10000, eps : 1.0%\n",
            "n_episode :4780, score : -340.0, n_buffer : 10000, eps : 1.0%\n",
            "n_episode :4800, score : -333.6, n_buffer : 10000, eps : 1.0%\n",
            "n_episode :4820, score : -264.5, n_buffer : 10000, eps : 1.0%\n",
            "n_episode :4840, score : -255.5, n_buffer : 10000, eps : 1.0%\n",
            "n_episode :4860, score : -322.1, n_buffer : 10000, eps : 1.0%\n",
            "n_episode :4880, score : -356.9, n_buffer : 10000, eps : 1.0%\n",
            "n_episode :4900, score : -153.0, n_buffer : 10000, eps : 1.0%\n",
            "n_episode :4920, score : -172.3, n_buffer : 10000, eps : 1.0%\n",
            "n_episode :4940, score : -258.4, n_buffer : 10000, eps : 1.0%\n",
            "n_episode :4960, score : -314.6, n_buffer : 10000, eps : 1.0%\n",
            "n_episode :4980, score : -204.6, n_buffer : 10000, eps : 1.0%\n",
            "n_episode :5000, score : -227.1, n_buffer : 10000, eps : 1.0%\n",
            "n_episode :5020, score : -331.0, n_buffer : 10000, eps : 1.0%\n",
            "n_episode :5040, score : -182.7, n_buffer : 10000, eps : 1.0%\n",
            "n_episode :5060, score : -248.7, n_buffer : 10000, eps : 1.0%\n",
            "n_episode :5080, score : -223.3, n_buffer : 10000, eps : 1.0%\n",
            "n_episode :5100, score : -253.5, n_buffer : 10000, eps : 1.0%\n",
            "n_episode :5120, score : -101.7, n_buffer : 10000, eps : 1.0%\n",
            "n_episode :5140, score : -133.5, n_buffer : 10000, eps : 1.0%\n",
            "n_episode :5160, score : -249.3, n_buffer : 10000, eps : 1.0%\n",
            "n_episode :5180, score : -368.2, n_buffer : 10000, eps : 1.0%\n",
            "n_episode :5200, score : -197.2, n_buffer : 10000, eps : 1.0%\n",
            "n_episode :5220, score : -157.7, n_buffer : 10000, eps : 1.0%\n",
            "n_episode :5240, score : -130.9, n_buffer : 10000, eps : 1.0%\n",
            "n_episode :5260, score : -222.1, n_buffer : 10000, eps : 1.0%\n",
            "n_episode :5280, score : -362.8, n_buffer : 10000, eps : 1.0%\n",
            "n_episode :5300, score : -326.4, n_buffer : 10000, eps : 1.0%\n",
            "n_episode :5320, score : -401.5, n_buffer : 10000, eps : 1.0%\n",
            "n_episode :5340, score : -425.2, n_buffer : 10000, eps : 1.0%\n",
            "n_episode :5360, score : -289.1, n_buffer : 10000, eps : 1.0%\n",
            "n_episode :5380, score : -255.3, n_buffer : 10000, eps : 1.0%\n",
            "n_episode :5400, score : -292.4, n_buffer : 10000, eps : 1.0%\n",
            "n_episode :5420, score : -242.4, n_buffer : 10000, eps : 1.0%\n",
            "n_episode :5440, score : -365.9, n_buffer : 10000, eps : 1.0%\n",
            "n_episode :5460, score : -209.8, n_buffer : 10000, eps : 1.0%\n",
            "n_episode :5480, score : -215.1, n_buffer : 10000, eps : 1.0%\n",
            "n_episode :5500, score : -391.4, n_buffer : 10000, eps : 1.0%\n",
            "n_episode :5520, score : -357.7, n_buffer : 10000, eps : 1.0%\n",
            "n_episode :5540, score : -391.1, n_buffer : 10000, eps : 1.0%\n",
            "n_episode :5560, score : -422.8, n_buffer : 10000, eps : 1.0%\n",
            "n_episode :5580, score : -456.9, n_buffer : 10000, eps : 1.0%\n",
            "n_episode :5600, score : -385.8, n_buffer : 10000, eps : 1.0%\n",
            "n_episode :5620, score : -235.0, n_buffer : 10000, eps : 1.0%\n",
            "n_episode :5640, score : -194.1, n_buffer : 10000, eps : 1.0%\n",
            "n_episode :5660, score : -162.8, n_buffer : 10000, eps : 1.0%\n",
            "n_episode :5680, score : -231.8, n_buffer : 10000, eps : 1.0%\n",
            "n_episode :5700, score : -293.6, n_buffer : 10000, eps : 1.0%\n",
            "n_episode :5720, score : -298.1, n_buffer : 10000, eps : 1.0%\n",
            "n_episode :5740, score : -324.9, n_buffer : 10000, eps : 1.0%\n",
            "n_episode :5760, score : -396.3, n_buffer : 10000, eps : 1.0%\n",
            "n_episode :5780, score : -438.8, n_buffer : 10000, eps : 1.0%\n",
            "n_episode :5800, score : -482.1, n_buffer : 10000, eps : 1.0%\n",
            "n_episode :5820, score : -500.0, n_buffer : 10000, eps : 1.0%\n",
            "n_episode :5840, score : -461.0, n_buffer : 10000, eps : 1.0%\n",
            "n_episode :5860, score : -427.2, n_buffer : 10000, eps : 1.0%\n",
            "n_episode :5880, score : -403.9, n_buffer : 10000, eps : 1.0%\n",
            "n_episode :5900, score : -285.5, n_buffer : 10000, eps : 1.0%\n",
            "n_episode :5920, score : -330.2, n_buffer : 10000, eps : 1.0%\n",
            "n_episode :5940, score : -278.2, n_buffer : 10000, eps : 1.0%\n",
            "n_episode :5960, score : -255.1, n_buffer : 10000, eps : 1.0%\n",
            "n_episode :5980, score : -303.1, n_buffer : 10000, eps : 1.0%\n"
          ]
        }
      ]
    },
    {
      "cell_type": "markdown",
      "source": [
        "## 실행값을 로컬에 다운받은 후 csv파일로 임포트 하였다."
      ],
      "metadata": {
        "id": "kgB7IfQcy9TC"
      }
    },
    {
      "cell_type": "code",
      "source": [
        "from google.colab import drive\n",
        "drive.mount('/content/drive')"
      ],
      "metadata": {
        "colab": {
          "base_uri": "https://localhost:8080/"
        },
        "id": "1pd35J90xlfh",
        "outputId": "5caf09ea-747f-4793-eba1-abc819404d80"
      },
      "execution_count": 46,
      "outputs": [
        {
          "output_type": "stream",
          "name": "stdout",
          "text": [
            "Mounted at /content/drive\n"
          ]
        }
      ]
    },
    {
      "cell_type": "code",
      "source": [
        "import pandas as pd"
      ],
      "metadata": {
        "id": "O7pBKMkmHvvj"
      },
      "execution_count": 47,
      "outputs": []
    },
    {
      "cell_type": "code",
      "source": [
        "df = pd.read_csv('RL_PROJECT_2022_A66032.csv')"
      ],
      "metadata": {
        "id": "2sigtmHDHjGA"
      },
      "execution_count": 50,
      "outputs": []
    },
    {
      "cell_type": "code",
      "source": [
        "%matplotlib inline\n",
        "plt.plot(df['n_episode'], df['score'])"
      ],
      "metadata": {
        "colab": {
          "base_uri": "https://localhost:8080/",
          "height": 283
        },
        "id": "xRlKLgrgHz63",
        "outputId": "42e8283e-1069-4875-b125-33e57a46035a"
      },
      "execution_count": 52,
      "outputs": [
        {
          "output_type": "execute_result",
          "data": {
            "text/plain": [
              "[<matplotlib.lines.Line2D at 0x7fe711984cd0>]"
            ]
          },
          "metadata": {},
          "execution_count": 52
        },
        {
          "output_type": "display_data",
          "data": {
            "text/plain": [
              "<Figure size 432x288 with 1 Axes>"
            ],
            "image/png": "[encoded data removed]"
          },
          "metadata": {
            "needs_background": "light"
          }
        }
      ]
    },
    {
      "cell_type": "code",
      "source": [
        "df2 = pd.read_csv('RL_DQN_6000.csv')"
      ],
      "metadata": {
        "id": "9hnii9ukIe2x"
      },
      "execution_count": 62,
      "outputs": []
    },
    {
      "cell_type": "code",
      "source": [
        "%matplotlib inline\n",
        "plt.plot(df2['n_episode'], df2['score'])"
      ],
      "metadata": {
        "colab": {
          "base_uri": "https://localhost:8080/",
          "height": 283
        },
        "id": "fWdqY5rgqeQa",
        "outputId": "75f55661-36a5-4d68-e850-3afe888f85b6"
      },
      "execution_count": 63,
      "outputs": [
        {
          "output_type": "execute_result",
          "data": {
            "text/plain": [
              "[<matplotlib.lines.Line2D at 0x7fe711788fa0>]"
            ]
          },
          "metadata": {},
          "execution_count": 63
        },
        {
          "output_type": "display_data",
          "data": {
            "text/plain": [
              "<Figure size 432x288 with 1 Axes>"
            ],
            "image/png": "[encoded data removed]"
          },
          "metadata": {
            "needs_background": "light"
          }
        }
      ]
    },
    {
      "cell_type": "code",
      "source": [],
      "metadata": {
        "id": "eQkg9Xl7qgGH"
      },
      "execution_count": null,
      "outputs": []
    }
  ]
}